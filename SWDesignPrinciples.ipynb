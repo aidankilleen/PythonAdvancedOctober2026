{
 "cells": [
  {
   "cell_type": "code",
   "execution_count": null,
   "id": "4466ff76",
   "metadata": {},
   "outputs": [],
   "source": []
  },
  {
   "cell_type": "markdown",
   "id": "4af946e2",
   "metadata": {},
   "source": [
    "# Core Software Design Principles\n",
    "\n",
    "## D.R.Y.\n",
    "Don't **repeat** yourself<br>\n",
    "The prime *directive* \n",
    "- one\n",
    "- two\n",
    "- three\n",
    "\n",
    "1. one\n",
    "2. two\n",
    "3. three\n",
    "\n",
    "[Python Website](https://www.python.org)\n",
    "\n",
    "\n",
    "## Use Type Hints\n",
    "```\n",
    "class Person():\n",
    "    def __init__(self, id:int, name:str, email:str, active:bool):\n",
    "        self.id = id\n",
    "        self.name = name\n",
    "        self.email = email\n",
    "        self.active = active\n",
    "        pass\n",
    "```"
   ]
  }
 ],
 "metadata": {
  "kernelspec": {
   "display_name": "Python 3",
   "language": "python",
   "name": "python3"
  },
  "language_info": {
   "codemirror_mode": {
    "name": "ipython",
    "version": 3
   },
   "file_extension": ".py",
   "mimetype": "text/x-python",
   "name": "python",
   "nbconvert_exporter": "python",
   "pygments_lexer": "ipython3",
   "version": "3.13.7"
  }
 },
 "nbformat": 4,
 "nbformat_minor": 5
}
